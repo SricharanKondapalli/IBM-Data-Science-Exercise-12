{
 "cells": [
  {
   "cell_type": "markdown",
   "id": "9958e214-6440-4481-a703-1b6e4eea3546",
   "metadata": {},
   "source": [
    "# Data Science Tools and Ecosystem"
   ]
  },
  {
   "cell_type": "markdown",
   "id": "0cc74035-db44-4047-8b19-6c86fe31c1de",
   "metadata": {},
   "source": [
    "### In this notebook, Data Science Tools and Ecosystems are summarized."
   ]
  },
  {
   "cell_type": "markdown",
   "id": "6ea3c3ec-2d3d-40c6-ae55-2f642a3f8727",
   "metadata": {},
   "source": [
    "**Objectives:**\n",
    "- List Popular languages for Data Science\n",
    "- Identify commonly used tools in Data Science\n",
    "- List the commonly used libraries by Data Scientists\n",
    "- Create a Single column table with 3 items\n",
    "- Evaluate an arithmetic expression"
   ]
  },
  {
   "cell_type": "markdown",
   "id": "0b563f4c-c5dc-4278-81a5-2cd24abcc829",
   "metadata": {},
   "source": [
    "### Some of the popular languages that Data Scientists use are:\n",
    "1. Python\n",
    "2. R\n",
    "3. SQL\n",
    "4. Scala\n",
    "5. Java\n",
    "6. etc."
   ]
  },
  {
   "cell_type": "markdown",
   "id": "0491865c-03eb-451e-83c3-578ee4ed7727",
   "metadata": {},
   "source": [
    "### Some of the commonly used libraries used by Data Scientists include:\n",
    "1. Pandas\n",
    "2. Numpy\n",
    "3. dplyr\n",
    "4. matplotlib\n",
    "5. plotly\n",
    "6. seaborn\n",
    "7. etc."
   ]
  },
  {
   "cell_type": "markdown",
   "id": "cc9b9a6d-b26b-4bef-ba51-c6e6c73d5dfd",
   "metadata": {},
   "source": [
    "| Data Science Tools |\n",
    "|--------------------|\n",
    "| Jupyter Notebook   |  \n",
    "| RStudio            |    \n",
    "| Apache Zeppelin    |\n"
   ]
  },
  {
   "cell_type": "markdown",
   "id": "491cc5cb-c8fb-45a4-a369-92bc0c1f6c15",
   "metadata": {},
   "source": [
    "### Below are a few examples of evaluating arithmetic expressions in Python "
   ]
  },
  {
   "cell_type": "code",
   "execution_count": 3,
   "id": "c9ac1ef7-052a-4f55-b5e0-114fec04f39e",
   "metadata": {},
   "outputs": [
    {
     "data": {
      "text/plain": [
       "17"
      ]
     },
     "execution_count": 3,
     "metadata": {},
     "output_type": "execute_result"
    }
   ],
   "source": [
    "# This is a simple arithmetic expression to multiply then add integers\n",
    "(3*4)+5"
   ]
  },
  {
   "cell_type": "code",
   "execution_count": 4,
   "id": "066dad38-05a7-4197-94f5-04ac5e5aa910",
   "metadata": {},
   "outputs": [
    {
     "name": "stdout",
     "output_type": "stream",
     "text": [
      "3.3333333333333335\n"
     ]
    }
   ],
   "source": [
    "# This will convert 200 minutes to hours by dividing by 60\n",
    "hours = 200 / 60\n",
    "print(hours)"
   ]
  },
  {
   "cell_type": "markdown",
   "id": "00204957-c328-428e-ac09-f8c06202b3ed",
   "metadata": {},
   "source": [
    "## Author:\n",
    "Sricharan Kondapalli "
   ]
  },
  {
   "cell_type": "code",
   "execution_count": null,
   "id": "f2bdf243-bfba-4560-ad93-0396d27078e3",
   "metadata": {},
   "outputs": [],
   "source": []
  }
 ],
 "metadata": {
  "kernelspec": {
   "display_name": "Python 3 (ipykernel)",
   "language": "python",
   "name": "python3"
  },
  "language_info": {
   "codemirror_mode": {
    "name": "ipython",
    "version": 3
   },
   "file_extension": ".py",
   "mimetype": "text/x-python",
   "name": "python",
   "nbconvert_exporter": "python",
   "pygments_lexer": "ipython3",
   "version": "3.12.7"
  }
 },
 "nbformat": 4,
 "nbformat_minor": 5
}
